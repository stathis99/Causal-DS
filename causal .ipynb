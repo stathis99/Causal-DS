{
 "cells": [
  {
   "cell_type": "code",
   "execution_count": 22,
   "id": "e52fe227",
   "metadata": {},
   "outputs": [],
   "source": [
    "import pandas as pd\n",
    "import networkx as nx\n",
    "import dowhy\n",
    "from dowhy import CausalModel\n",
    "from sklearn.linear_model import LinearRegression\n",
    "\n",
    "\n",
    "\n"
   ]
  },
  {
   "cell_type": "code",
   "execution_count": 3,
   "id": "65f08944",
   "metadata": {},
   "outputs": [],
   "source": [
    "train_path = 'Data/lucas0_text/lucas0_train.data'\n",
    "test_path = 'Data/lucas0_text/lucas0_test.data'\n",
    "targets_path = 'Data/lucas0_text/lucas0_train.targets'\n",
    "param_path = 'Data/lucas0_text/lucas0.param'\n",
    "\n",
    "\n",
    "column_names_targets = ['LC']  \n",
    "column_names = [\n",
    "    'SMOK',\n",
    "    'YF',\n",
    "    'ANX',\n",
    "    'PP',\n",
    "    'GEN',\n",
    "    'ATDSD',\n",
    "    'BED',\n",
    "    'CAR',\n",
    "    'FTG',\n",
    "    'ALG',\n",
    "    'COUGH'\n",
    "]\n",
    "\n",
    "\n",
    "\n",
    "train = pd.read_csv(train_path, names= column_names,delimiter='\\\\s+')\n",
    "test = pd.read_csv(test_path)\n",
    "targets = pd.read_csv(targets_path, names=column_names_targets)\n",
    "param = pd.read_csv(param_path)\n",
    "\n",
    "data = pd.concat([train, targets], axis=1)\n",
    "\n",
    "num_samples = data.shape[0]\n",
    "\n",
    "# change LC variable from (-1,1) t0 (0,1) for calculations\n",
    "data['LC'] =data['LC'].replace(-1, 0)"
   ]
  },
  {
   "cell_type": "code",
   "execution_count": 4,
   "id": "9f8808d9",
   "metadata": {},
   "outputs": [
    {
     "data": {
      "text/html": [
       "<div>\n",
       "<style scoped>\n",
       "    .dataframe tbody tr th:only-of-type {\n",
       "        vertical-align: middle;\n",
       "    }\n",
       "\n",
       "    .dataframe tbody tr th {\n",
       "        vertical-align: top;\n",
       "    }\n",
       "\n",
       "    .dataframe thead th {\n",
       "        text-align: right;\n",
       "    }\n",
       "</style>\n",
       "<table border=\"1\" class=\"dataframe\">\n",
       "  <thead>\n",
       "    <tr style=\"text-align: right;\">\n",
       "      <th></th>\n",
       "      <th>SMOK</th>\n",
       "      <th>YF</th>\n",
       "      <th>ANX</th>\n",
       "      <th>PP</th>\n",
       "      <th>GEN</th>\n",
       "      <th>ATDSD</th>\n",
       "      <th>BED</th>\n",
       "      <th>CAR</th>\n",
       "      <th>FTG</th>\n",
       "      <th>ALG</th>\n",
       "      <th>COUGH</th>\n",
       "      <th>LC</th>\n",
       "    </tr>\n",
       "  </thead>\n",
       "  <tbody>\n",
       "    <tr>\n",
       "      <th>0</th>\n",
       "      <td>0</td>\n",
       "      <td>0</td>\n",
       "      <td>1</td>\n",
       "      <td>0</td>\n",
       "      <td>0</td>\n",
       "      <td>1</td>\n",
       "      <td>0</td>\n",
       "      <td>1</td>\n",
       "      <td>0</td>\n",
       "      <td>1</td>\n",
       "      <td>0</td>\n",
       "      <td>0</td>\n",
       "    </tr>\n",
       "    <tr>\n",
       "      <th>1</th>\n",
       "      <td>0</td>\n",
       "      <td>1</td>\n",
       "      <td>0</td>\n",
       "      <td>0</td>\n",
       "      <td>0</td>\n",
       "      <td>0</td>\n",
       "      <td>1</td>\n",
       "      <td>0</td>\n",
       "      <td>1</td>\n",
       "      <td>0</td>\n",
       "      <td>1</td>\n",
       "      <td>1</td>\n",
       "    </tr>\n",
       "    <tr>\n",
       "      <th>2</th>\n",
       "      <td>1</td>\n",
       "      <td>1</td>\n",
       "      <td>1</td>\n",
       "      <td>0</td>\n",
       "      <td>1</td>\n",
       "      <td>1</td>\n",
       "      <td>1</td>\n",
       "      <td>1</td>\n",
       "      <td>1</td>\n",
       "      <td>1</td>\n",
       "      <td>1</td>\n",
       "      <td>1</td>\n",
       "    </tr>\n",
       "    <tr>\n",
       "      <th>3</th>\n",
       "      <td>0</td>\n",
       "      <td>0</td>\n",
       "      <td>0</td>\n",
       "      <td>1</td>\n",
       "      <td>0</td>\n",
       "      <td>0</td>\n",
       "      <td>1</td>\n",
       "      <td>0</td>\n",
       "      <td>0</td>\n",
       "      <td>0</td>\n",
       "      <td>0</td>\n",
       "      <td>0</td>\n",
       "    </tr>\n",
       "    <tr>\n",
       "      <th>4</th>\n",
       "      <td>1</td>\n",
       "      <td>1</td>\n",
       "      <td>1</td>\n",
       "      <td>0</td>\n",
       "      <td>0</td>\n",
       "      <td>1</td>\n",
       "      <td>1</td>\n",
       "      <td>1</td>\n",
       "      <td>1</td>\n",
       "      <td>0</td>\n",
       "      <td>0</td>\n",
       "      <td>1</td>\n",
       "    </tr>\n",
       "    <tr>\n",
       "      <th>...</th>\n",
       "      <td>...</td>\n",
       "      <td>...</td>\n",
       "      <td>...</td>\n",
       "      <td>...</td>\n",
       "      <td>...</td>\n",
       "      <td>...</td>\n",
       "      <td>...</td>\n",
       "      <td>...</td>\n",
       "      <td>...</td>\n",
       "      <td>...</td>\n",
       "      <td>...</td>\n",
       "      <td>...</td>\n",
       "    </tr>\n",
       "    <tr>\n",
       "      <th>1995</th>\n",
       "      <td>0</td>\n",
       "      <td>0</td>\n",
       "      <td>1</td>\n",
       "      <td>0</td>\n",
       "      <td>0</td>\n",
       "      <td>0</td>\n",
       "      <td>0</td>\n",
       "      <td>1</td>\n",
       "      <td>1</td>\n",
       "      <td>0</td>\n",
       "      <td>1</td>\n",
       "      <td>1</td>\n",
       "    </tr>\n",
       "    <tr>\n",
       "      <th>1996</th>\n",
       "      <td>1</td>\n",
       "      <td>1</td>\n",
       "      <td>1</td>\n",
       "      <td>0</td>\n",
       "      <td>0</td>\n",
       "      <td>0</td>\n",
       "      <td>0</td>\n",
       "      <td>0</td>\n",
       "      <td>1</td>\n",
       "      <td>0</td>\n",
       "      <td>1</td>\n",
       "      <td>1</td>\n",
       "    </tr>\n",
       "    <tr>\n",
       "      <th>1997</th>\n",
       "      <td>1</td>\n",
       "      <td>1</td>\n",
       "      <td>0</td>\n",
       "      <td>1</td>\n",
       "      <td>0</td>\n",
       "      <td>0</td>\n",
       "      <td>1</td>\n",
       "      <td>0</td>\n",
       "      <td>1</td>\n",
       "      <td>0</td>\n",
       "      <td>0</td>\n",
       "      <td>1</td>\n",
       "    </tr>\n",
       "    <tr>\n",
       "      <th>1998</th>\n",
       "      <td>1</td>\n",
       "      <td>1</td>\n",
       "      <td>1</td>\n",
       "      <td>0</td>\n",
       "      <td>1</td>\n",
       "      <td>1</td>\n",
       "      <td>0</td>\n",
       "      <td>1</td>\n",
       "      <td>1</td>\n",
       "      <td>0</td>\n",
       "      <td>1</td>\n",
       "      <td>1</td>\n",
       "    </tr>\n",
       "    <tr>\n",
       "      <th>1999</th>\n",
       "      <td>1</td>\n",
       "      <td>1</td>\n",
       "      <td>0</td>\n",
       "      <td>1</td>\n",
       "      <td>0</td>\n",
       "      <td>0</td>\n",
       "      <td>0</td>\n",
       "      <td>0</td>\n",
       "      <td>1</td>\n",
       "      <td>1</td>\n",
       "      <td>1</td>\n",
       "      <td>1</td>\n",
       "    </tr>\n",
       "  </tbody>\n",
       "</table>\n",
       "<p>2000 rows × 12 columns</p>\n",
       "</div>"
      ],
      "text/plain": [
       "      SMOK  YF  ANX  PP  GEN  ATDSD  BED  CAR  FTG  ALG  COUGH  LC\n",
       "0        0   0    1   0    0      1    0    1    0    1      0   0\n",
       "1        0   1    0   0    0      0    1    0    1    0      1   1\n",
       "2        1   1    1   0    1      1    1    1    1    1      1   1\n",
       "3        0   0    0   1    0      0    1    0    0    0      0   0\n",
       "4        1   1    1   0    0      1    1    1    1    0      0   1\n",
       "...    ...  ..  ...  ..  ...    ...  ...  ...  ...  ...    ...  ..\n",
       "1995     0   0    1   0    0      0    0    1    1    0      1   1\n",
       "1996     1   1    1   0    0      0    0    0    1    0      1   1\n",
       "1997     1   1    0   1    0      0    1    0    1    0      0   1\n",
       "1998     1   1    1   0    1      1    0    1    1    0      1   1\n",
       "1999     1   1    0   1    0      0    0    0    1    1      1   1\n",
       "\n",
       "[2000 rows x 12 columns]"
      ]
     },
     "execution_count": 4,
     "metadata": {},
     "output_type": "execute_result"
    }
   ],
   "source": [
    "data"
   ]
  },
  {
   "cell_type": "markdown",
   "id": "61281934",
   "metadata": {},
   "source": [
    "## Draw Graph"
   ]
  },
  {
   "cell_type": "code",
   "execution_count": 5,
   "id": "0a84ee2a",
   "metadata": {},
   "outputs": [
    {
     "data": {
      "image/png": "[encoded data removed]",
      "text/plain": [
       "<Figure size 640x480 with 1 Axes>"
      ]
     },
     "metadata": {},
     "output_type": "display_data"
    }
   ],
   "source": [
    "G = nx.DiGraph()\n",
    "\n",
    "G.add_nodes_from(['ANX', 'PP', 'BED', 'YF', 'SMOK', 'GEN', 'ALG', 'LC', 'ATDSD', 'COUGH', 'FTG', 'CAR'])\n",
    "\n",
    "G.add_edges_from([('ANX', 'SMOK'),\n",
    "                   ('PP', 'SMOK'),\n",
    "                   ('SMOK', 'YF'),\n",
    "                   ('SMOK', 'LC'),\n",
    "                   ('COUGH', 'FTG'),\n",
    "                   ('GEN', 'LC'),\n",
    "                   ('GEN', 'ATDSD'),\n",
    "                   ('LC', 'FTG'),\n",
    "                   ('LC', 'COUGH'),\n",
    "                   ('FTG', 'CAR'),\n",
    "                   ('ALG', 'COUGH'),\n",
    "                   ('ATDSD', 'CAR')])\n",
    "\n",
    "pos = {'ANX': (-1, 1), 'PP': (1, 1),\n",
    "       'BED': (2, 1), 'YF': (-2, 0), 'GEN': (1, 0),\n",
    "       'SMOK': (-1, 0), 'LC': (0, -1), 'COUGH': (0, -2),\n",
    "       'FTG': (1, -2), 'CAR': (2, -3), 'ALG': (-1, -1), 'ATDSD': (2, -1)}\n",
    "\n",
    "nx.draw(G, pos=pos, with_labels=True, node_size=2000, node_color='w', edgecolors='black')\n",
    "nx.write_gml(G, \"lung_cancer_graph.gml\")"
   ]
  },
  {
   "cell_type": "code",
   "execution_count": 6,
   "id": "12e7769d",
   "metadata": {},
   "outputs": [],
   "source": [
    "# a utility function to parse the .gml file to string\n",
    "def gml_to_string(file):\n",
    "    gml_str = ''\n",
    "    with open(file, 'r') as file:\n",
    "        for line in file:\n",
    "            gml_str += line.rstrip()\n",
    "    return gml_str\n",
    "\n",
    "from IPython.display import Image, display\n"
   ]
  },
  {
   "cell_type": "code",
   "execution_count": 7,
   "id": "ef609ff1",
   "metadata": {},
   "outputs": [
    {
     "data": {
      "image/png": "[encoded data removed]",
      "text/plain": [
       "<Figure size 800x600 with 1 Axes>"
      ]
     },
     "metadata": {},
     "output_type": "display_data"
    }
   ],
   "source": [
    "from IPython.display import Image, display\n",
    "\n",
    "gml_graph = gml_to_string('lung_cancer_graph.gml')\n",
    "# With GML string\n",
    "model=CausalModel(\n",
    "    data = data,\n",
    "    treatment='COUGH',\n",
    "    outcome='FTG',\n",
    "    graph=gml_graph\n",
    ")\n",
    "model.view_model()"
   ]
  },
  {
   "cell_type": "markdown",
   "id": "87e97936",
   "metadata": {},
   "source": [
    "# ATE of Coughing on Fatigue"
   ]
  },
  {
   "cell_type": "markdown",
   "id": "75698efb",
   "metadata": {},
   "source": [
    "## 1. Find adj sets"
   ]
  },
  {
   "cell_type": "code",
   "execution_count": 61,
   "id": "dd6f1654",
   "metadata": {},
   "outputs": [
    {
     "name": "stdout",
     "output_type": "stream",
     "text": [
      "Estimand type: EstimandType.NONPARAMETRIC_ATE\n",
      "\n",
      "### Estimand : 1\n",
      "Estimand name: backdoor\n",
      "Estimand expression:\n",
      "   d               \n",
      "────────(E[FTG|LC])\n",
      "d[COUGH]           \n",
      "Estimand assumption 1, Unconfoundedness: If U→{COUGH} and U→FTG then P(FTG|COUGH,LC,U) = P(FTG|COUGH,LC)\n",
      "\n",
      "### Estimand : 2\n",
      "Estimand name: iv\n",
      "Estimand expression:\n",
      " ⎡                             -1⎤\n",
      " ⎢  d         ⎛  d            ⎞  ⎥\n",
      "E⎢──────(FTG)⋅⎜──────([COUGH])⎟  ⎥\n",
      " ⎣d[ALG]      ⎝d[ALG]         ⎠  ⎦\n",
      "Estimand assumption 1, As-if-random: If U→→FTG then ¬(U →→{ALG})\n",
      "Estimand assumption 2, Exclusion: If we remove {ALG}→{COUGH}, then ¬({ALG}→FTG)\n",
      "\n",
      "### Estimand : 3\n",
      "Estimand name: frontdoor\n",
      "No such variable(s) found!\n",
      "\n"
     ]
    }
   ],
   "source": [
    "identified_estimand = model.identify_effect()\n",
    "print(identified_estimand)"
   ]
  },
  {
   "cell_type": "markdown",
   "id": "8584e5a5",
   "metadata": {},
   "source": [
    "#### Found Lung Cuncer as adj set with backdoor "
   ]
  },
  {
   "cell_type": "markdown",
   "id": "ece176ee",
   "metadata": {},
   "source": [
    "## 2. Make biased linear estimation"
   ]
  },
  {
   "cell_type": "code",
   "execution_count": 63,
   "id": "c4608cd9",
   "metadata": {},
   "outputs": [],
   "source": [
    "\n",
    "v0_vals = data['COUGH'].values.reshape(num_samples, 1)\n",
    "y_vals = data['FTG'].values.reshape(num_samples, 1)"
   ]
  },
  {
   "cell_type": "code",
   "execution_count": 64,
   "id": "2486ccce",
   "metadata": {},
   "outputs": [
    {
     "data": {
      "text/plain": [
       "array([[0.44200005]])"
      ]
     },
     "execution_count": 64,
     "metadata": {},
     "output_type": "execute_result"
    }
   ],
   "source": [
    "linear_regressor = LinearRegression() \n",
    "linear_regressor.fit(v0_vals, y_vals)\n",
    "linear_regressor.coef_"
   ]
  },
  {
   "cell_type": "markdown",
   "id": "01bf271c",
   "metadata": {},
   "source": [
    "## Make unbiased linear estimation using backdoot adj set"
   ]
  },
  {
   "cell_type": "code",
   "execution_count": 65,
   "id": "bcf8f388",
   "metadata": {},
   "outputs": [
    {
     "name": "stdout",
     "output_type": "stream",
     "text": [
      "*** Causal Estimate ***\n",
      "\n",
      "## Identified estimand\n",
      "Estimand type: EstimandType.NONPARAMETRIC_ATE\n",
      "\n",
      "### Estimand : 1\n",
      "Estimand name: backdoor\n",
      "Estimand expression:\n",
      "   d               \n",
      "────────(E[FTG|LC])\n",
      "d[COUGH]           \n",
      "Estimand assumption 1, Unconfoundedness: If U→{COUGH} and U→FTG then P(FTG|COUGH,LC,U) = P(FTG|COUGH,LC)\n",
      "\n",
      "## Realized estimand\n",
      "b: FTG~COUGH+LC\n",
      "Target units: ate\n",
      "\n",
      "## Estimate\n",
      "Mean value: 0.3532092786978183\n",
      "\n",
      "Causal Estimate is 0.3532092786978183\n"
     ]
    },
    {
     "name": "stderr",
     "output_type": "stream",
     "text": [
      "/Users/stathis/opt/anaconda3/lib/python3.9/site-packages/dowhy/causal_estimators/regression_estimator.py:179: FutureWarning: Series.__getitem__ treating keys as positions is deprecated. In a future version, integer keys will always be treated as labels (consistent with DataFrame behavior). To access a value by position, use `ser.iloc[pos]`\n",
      "  intercept_parameter = self.model.params[0]\n"
     ]
    }
   ],
   "source": [
    "causal_estimate = model.estimate_effect(identified_estimand,\n",
    "        method_name=\"backdoor.linear_regression\")\n",
    "print(causal_estimate)\n",
    "print(\"Causal Estimate is \" + str(causal_estimate.value))"
   ]
  },
  {
   "cell_type": "markdown",
   "id": "2e89d2e2",
   "metadata": {},
   "source": [
    "## Make unbiased inverse propensity weighting using backdoot adj set"
   ]
  },
  {
   "cell_type": "code",
   "execution_count": 73,
   "id": "eacef6d5",
   "metadata": {},
   "outputs": [],
   "source": [
    "t_group = data[data[\"COUGH\"]==1]\n",
    "c_group = data[data[\"COUGH\"]==0]"
   ]
  },
  {
   "cell_type": "code",
   "execution_count": 74,
   "id": "61328424",
   "metadata": {},
   "outputs": [],
   "source": [
    "treatment_group_LC_0 = t_group[t_group[\"LC\"]==0]\n",
    "treatment_group_LC_1 = t_group[t_group[\"LC\"]==1]\n",
    "\n",
    "control_group_LC_0 = c_group[c_group[\"LC\"]==0]\n",
    "control_group_LC_1 = c_group[c_group[\"LC\"]==1]"
   ]
  },
  {
   "cell_type": "code",
   "execution_count": 75,
   "id": "b559c40b",
   "metadata": {},
   "outputs": [],
   "source": [
    "LC_0_group = pd.concat([treatment_group_LC_0,control_group_LC_0])\n",
    "LC_1_group = pd.concat([treatment_group_LC_1,control_group_LC_1])\n"
   ]
  },
  {
   "cell_type": "code",
   "execution_count": 76,
   "id": "96f40934",
   "metadata": {},
   "outputs": [
    {
     "data": {
      "text/html": [
       "<div>\n",
       "<style scoped>\n",
       "    .dataframe tbody tr th:only-of-type {\n",
       "        vertical-align: middle;\n",
       "    }\n",
       "\n",
       "    .dataframe tbody tr th {\n",
       "        vertical-align: top;\n",
       "    }\n",
       "\n",
       "    .dataframe thead th {\n",
       "        text-align: right;\n",
       "    }\n",
       "</style>\n",
       "<table border=\"1\" class=\"dataframe\">\n",
       "  <thead>\n",
       "    <tr style=\"text-align: right;\">\n",
       "      <th></th>\n",
       "      <th>SMOK</th>\n",
       "      <th>YF</th>\n",
       "      <th>ANX</th>\n",
       "      <th>PP</th>\n",
       "      <th>GEN</th>\n",
       "      <th>ATDSD</th>\n",
       "      <th>BED</th>\n",
       "      <th>CAR</th>\n",
       "      <th>FTG</th>\n",
       "      <th>ALG</th>\n",
       "      <th>COUGH</th>\n",
       "      <th>LC</th>\n",
       "    </tr>\n",
       "  </thead>\n",
       "  <tbody>\n",
       "    <tr>\n",
       "      <th>1</th>\n",
       "      <td>0</td>\n",
       "      <td>1</td>\n",
       "      <td>0</td>\n",
       "      <td>0</td>\n",
       "      <td>0</td>\n",
       "      <td>0</td>\n",
       "      <td>1</td>\n",
       "      <td>0</td>\n",
       "      <td>1</td>\n",
       "      <td>0</td>\n",
       "      <td>1</td>\n",
       "      <td>1</td>\n",
       "    </tr>\n",
       "    <tr>\n",
       "      <th>2</th>\n",
       "      <td>1</td>\n",
       "      <td>1</td>\n",
       "      <td>1</td>\n",
       "      <td>0</td>\n",
       "      <td>1</td>\n",
       "      <td>1</td>\n",
       "      <td>1</td>\n",
       "      <td>1</td>\n",
       "      <td>1</td>\n",
       "      <td>1</td>\n",
       "      <td>1</td>\n",
       "      <td>1</td>\n",
       "    </tr>\n",
       "    <tr>\n",
       "      <th>5</th>\n",
       "      <td>1</td>\n",
       "      <td>1</td>\n",
       "      <td>0</td>\n",
       "      <td>1</td>\n",
       "      <td>0</td>\n",
       "      <td>0</td>\n",
       "      <td>1</td>\n",
       "      <td>1</td>\n",
       "      <td>1</td>\n",
       "      <td>1</td>\n",
       "      <td>1</td>\n",
       "      <td>1</td>\n",
       "    </tr>\n",
       "    <tr>\n",
       "      <th>6</th>\n",
       "      <td>1</td>\n",
       "      <td>1</td>\n",
       "      <td>1</td>\n",
       "      <td>1</td>\n",
       "      <td>0</td>\n",
       "      <td>0</td>\n",
       "      <td>0</td>\n",
       "      <td>1</td>\n",
       "      <td>1</td>\n",
       "      <td>0</td>\n",
       "      <td>1</td>\n",
       "      <td>1</td>\n",
       "    </tr>\n",
       "    <tr>\n",
       "      <th>7</th>\n",
       "      <td>1</td>\n",
       "      <td>1</td>\n",
       "      <td>1</td>\n",
       "      <td>0</td>\n",
       "      <td>0</td>\n",
       "      <td>0</td>\n",
       "      <td>1</td>\n",
       "      <td>1</td>\n",
       "      <td>1</td>\n",
       "      <td>0</td>\n",
       "      <td>1</td>\n",
       "      <td>1</td>\n",
       "    </tr>\n",
       "    <tr>\n",
       "      <th>...</th>\n",
       "      <td>...</td>\n",
       "      <td>...</td>\n",
       "      <td>...</td>\n",
       "      <td>...</td>\n",
       "      <td>...</td>\n",
       "      <td>...</td>\n",
       "      <td>...</td>\n",
       "      <td>...</td>\n",
       "      <td>...</td>\n",
       "      <td>...</td>\n",
       "      <td>...</td>\n",
       "      <td>...</td>\n",
       "    </tr>\n",
       "    <tr>\n",
       "      <th>1950</th>\n",
       "      <td>1</td>\n",
       "      <td>1</td>\n",
       "      <td>1</td>\n",
       "      <td>0</td>\n",
       "      <td>1</td>\n",
       "      <td>1</td>\n",
       "      <td>1</td>\n",
       "      <td>1</td>\n",
       "      <td>0</td>\n",
       "      <td>0</td>\n",
       "      <td>0</td>\n",
       "      <td>1</td>\n",
       "    </tr>\n",
       "    <tr>\n",
       "      <th>1953</th>\n",
       "      <td>1</td>\n",
       "      <td>1</td>\n",
       "      <td>1</td>\n",
       "      <td>0</td>\n",
       "      <td>0</td>\n",
       "      <td>0</td>\n",
       "      <td>1</td>\n",
       "      <td>1</td>\n",
       "      <td>1</td>\n",
       "      <td>0</td>\n",
       "      <td>0</td>\n",
       "      <td>1</td>\n",
       "    </tr>\n",
       "    <tr>\n",
       "      <th>1954</th>\n",
       "      <td>1</td>\n",
       "      <td>1</td>\n",
       "      <td>1</td>\n",
       "      <td>0</td>\n",
       "      <td>0</td>\n",
       "      <td>0</td>\n",
       "      <td>0</td>\n",
       "      <td>0</td>\n",
       "      <td>0</td>\n",
       "      <td>0</td>\n",
       "      <td>0</td>\n",
       "      <td>1</td>\n",
       "    </tr>\n",
       "    <tr>\n",
       "      <th>1963</th>\n",
       "      <td>1</td>\n",
       "      <td>1</td>\n",
       "      <td>1</td>\n",
       "      <td>1</td>\n",
       "      <td>0</td>\n",
       "      <td>1</td>\n",
       "      <td>1</td>\n",
       "      <td>1</td>\n",
       "      <td>0</td>\n",
       "      <td>0</td>\n",
       "      <td>0</td>\n",
       "      <td>1</td>\n",
       "    </tr>\n",
       "    <tr>\n",
       "      <th>1997</th>\n",
       "      <td>1</td>\n",
       "      <td>1</td>\n",
       "      <td>0</td>\n",
       "      <td>1</td>\n",
       "      <td>0</td>\n",
       "      <td>0</td>\n",
       "      <td>1</td>\n",
       "      <td>0</td>\n",
       "      <td>1</td>\n",
       "      <td>0</td>\n",
       "      <td>0</td>\n",
       "      <td>1</td>\n",
       "    </tr>\n",
       "  </tbody>\n",
       "</table>\n",
       "<p>1443 rows × 12 columns</p>\n",
       "</div>"
      ],
      "text/plain": [
       "      SMOK  YF  ANX  PP  GEN  ATDSD  BED  CAR  FTG  ALG  COUGH  LC\n",
       "1        0   1    0   0    0      0    1    0    1    0      1   1\n",
       "2        1   1    1   0    1      1    1    1    1    1      1   1\n",
       "5        1   1    0   1    0      0    1    1    1    1      1   1\n",
       "6        1   1    1   1    0      0    0    1    1    0      1   1\n",
       "7        1   1    1   0    0      0    1    1    1    0      1   1\n",
       "...    ...  ..  ...  ..  ...    ...  ...  ...  ...  ...    ...  ..\n",
       "1950     1   1    1   0    1      1    1    1    0    0      0   1\n",
       "1953     1   1    1   0    0      0    1    1    1    0      0   1\n",
       "1954     1   1    1   0    0      0    0    0    0    0      0   1\n",
       "1963     1   1    1   1    0      1    1    1    0    0      0   1\n",
       "1997     1   1    0   1    0      0    1    0    1    0      0   1\n",
       "\n",
       "[1443 rows x 12 columns]"
      ]
     },
     "execution_count": 76,
     "metadata": {},
     "output_type": "execute_result"
    }
   ],
   "source": [
    "LC_1_group"
   ]
  },
  {
   "cell_type": "code",
   "execution_count": 77,
   "id": "78de1fc1",
   "metadata": {},
   "outputs": [],
   "source": [
    "propensity_score_LC_0 = len(treatment_group_LC_0)/len(LC_0_group)\n",
    "propensity_score_LC_1 = len(treatment_group_LC_1)/len(LC_1_group)"
   ]
  },
  {
   "cell_type": "code",
   "execution_count": 78,
   "id": "dc7ea21c",
   "metadata": {},
   "outputs": [
    {
     "name": "stdout",
     "output_type": "stream",
     "text": [
      "ATE after IPW: 0.3507998093204841\n"
     ]
    }
   ],
   "source": [
    "number_of_all_samples = num_samples\n",
    "\n",
    "weighted_sum_treatment_0 = sum(treatment_group_LC_0[\"FTG\"])/ propensity_score_LC_0\n",
    "weighted_sum_treatment_1 = sum(treatment_group_LC_1[\"FTG\"])/ propensity_score_LC_1\n",
    "\n",
    "\n",
    "mean_treatment2 = weighted_sum_treatment_0 + weighted_sum_treatment_1 \n",
    "mean_treatment2 = mean_treatment2/number_of_all_samples\n",
    "\n",
    "weighted_sum_control_0 = sum(control_group_LC_0[\"FTG\"])/(1 - propensity_score_LC_0)\n",
    "weighted_sum_control_1 = sum(control_group_LC_1[\"FTG\"])/ (1 - propensity_score_LC_1)\n",
    "\n",
    "mean_control2 = weighted_sum_control_0 + weighted_sum_control_1 \n",
    "mean_control2 = mean_control2/number_of_all_samples\n",
    "\n",
    "ATE_IPW2 = mean_treatment2-mean_control2\n",
    "print(\"ATE after IPW:\", ATE_IPW2)"
   ]
  },
  {
   "cell_type": "code",
   "execution_count": 79,
   "id": "b08452ca",
   "metadata": {},
   "outputs": [
    {
     "name": "stdout",
     "output_type": "stream",
     "text": [
      "*** Causal Estimate ***\n",
      "\n",
      "## Identified estimand\n",
      "Estimand type: EstimandType.NONPARAMETRIC_ATE\n",
      "\n",
      "### Estimand : 1\n",
      "Estimand name: backdoor\n",
      "Estimand expression:\n",
      "   d               \n",
      "────────(E[FTG|LC])\n",
      "d[COUGH]           \n",
      "Estimand assumption 1, Unconfoundedness: If U→{COUGH} and U→FTG then P(FTG|COUGH,LC,U) = P(FTG|COUGH,LC)\n",
      "\n",
      "## Realized estimand\n",
      "b: FTG~COUGH+LC\n",
      "Target units: ate\n",
      "\n",
      "## Estimate\n",
      "Mean value: 0.35197519148673784\n",
      "\n",
      "Causal Estimate is 0.35197519148673784\n"
     ]
    }
   ],
   "source": [
    "causal_estimate = model.estimate_effect(identified_estimand,\n",
    "        method_name=\"backdoor.propensity_score_weighting\")\n",
    "print(causal_estimate)\n",
    "print(\"Causal Estimate is \" + str(causal_estimate.value))"
   ]
  },
  {
   "cell_type": "markdown",
   "id": "339ff84a-1f47-4cc7-8e6a-7d003b95d332",
   "metadata": {},
   "source": [
    "# 5. Causal Discovery"
   ]
  },
  {
   "cell_type": "code",
   "execution_count": 23,
   "id": "28af0c93-6bb0-464c-9ab1-1ab95b05a75e",
   "metadata": {},
   "outputs": [],
   "source": [
    "from itertools import combinations\n",
    "\n",
    "import cdt\n",
    "# cdt.SETTINGS.rpath = '/usr/local/bin/Rscript' # for macOS\n",
    "cdt.SETTINGS.rpath = 'C:/Program Files/R/R-4.3.3/bin/Rscript' # for Windows, here you may need to adjust the path based on your R Version\n",
    "\n",
    "from dowhy import CausalModel\n",
    "import matplotlib.pyplot as plt\n",
    "import networkx as nx\n",
    "import numpy as np\n",
    "from numpy.random import normal\n",
    "import pandas as pd\n",
    "import pingouin as pg\n",
    "import dowhy.graph_learners.ges as dowhy_ges\n",
    "import ges\n",
    "\n",
    "alpha = 0.05 # significance level"
   ]
  },
  {
   "cell_type": "markdown",
   "id": "f11176ca-14e8-4fc4-be9c-213d24250631",
   "metadata": {},
   "source": [
    "## 5.1 Constraint-based Causal Discovery"
   ]
  },
  {
   "cell_type": "code",
   "execution_count": 20,
   "id": "28a1a0bd-1e52-4f0b-8a4f-1c218cb1a572",
   "metadata": {},
   "outputs": [
    {
     "data": {
      "image/png": "[encoded data removed]",
      "text/plain": [
       "<Figure size 640x480 with 1 Axes>"
      ]
     },
     "metadata": {},
     "output_type": "display_data"
    }
   ],
   "source": [
    "pc = cdt.causality.graph.PC(CItest=\"gaussian\", alpha=alpha)\n",
    "pc_graph = pc.create_graph_from_data(data)\n",
    "colors = ['red'  if (y,x) in pc_graph.edges() else 'black' for (x,y) in pc_graph.edges()]\n",
    "nx.draw(pc_graph, with_labels=True, node_size=500, node_color='w', edgecolors ='black', pos=pos, edge_color=colors)"
   ]
  },
  {
   "cell_type": "markdown",
   "id": "d76c31d2-e4b1-4c50-b254-ace06c728d21",
   "metadata": {},
   "source": [
    "## 5.2 Score-based Causal Discovery"
   ]
  },
  {
   "cell_type": "code",
   "execution_count": 21,
   "id": "e6eed5f9-56bb-482e-8865-6c7a12471f81",
   "metadata": {},
   "outputs": [
    {
     "data": {
      "image/png": "[encoded data removed]",
      "text/plain": [
       "<Figure size 640x480 with 1 Axes>"
      ]
     },
     "metadata": {},
     "output_type": "display_data"
    }
   ],
   "source": [
    "result, score = ges.fit_bic(data.to_numpy()) # The result is a CPDAG represented by an adjacency matrix\n",
    "ges_graph = nx.relabel_nodes(nx.DiGraph(result), {idx: i for idx, i in enumerate(data.columns)})\n",
    "colors = ['red'  if (y,x) in ges_graph.edges() else 'black' for (x,y) in ges_graph.edges()]\n",
    "nx.draw(ges_graph, with_labels=True, node_size=500, node_color='w', edgecolors ='black', pos=pos, edge_color=colors)"
   ]
  },
  {
   "cell_type": "markdown",
   "id": "dfa956d2-4c7e-4593-b3a2-38c08490fffc",
   "metadata": {},
   "source": [
    "### Remarks"
   ]
  },
  {
   "cell_type": "markdown",
   "id": "6b0d777d-0ba7-4325-8a8b-fb593914f7ed",
   "metadata": {},
   "source": [
    "- Both methods (PC and GES) arrive at the same causal graph\n",
    "- Almost all of the causal relations agree with the graph provided in the dataset description, apart from the causal relation between Genetics and Attention Disorder, as the orientation of the edge could not be determined.\n",
    "- It could be argued that, since Genetics are defined before birth and cannot be changed thereafter, the attention disorder of a human cannot possibly affect Genetics. Thus, the direction of the edge between Genetics and Attention Disorder could be provided as Background Knowledge (even backed by literature, for example: https://www.nature.com/articles/s41380%E2%80%90018%E2%80%900070%E2%80%900)"
   ]
  },
  {
   "cell_type": "code",
   "execution_count": null,
   "id": "2b7ad84f-85a5-4c06-a6b9-4f8b69b15aa1",
   "metadata": {},
   "outputs": [],
   "source": []
  }
 ],
 "metadata": {
  "kernelspec": {
   "display_name": "Python 3 (ipykernel)",
   "language": "python",
   "name": "python3"
  },
  "language_info": {
   "codemirror_mode": {
    "name": "ipython",
    "version": 3
   },
   "file_extension": ".py",
   "mimetype": "text/x-python",
   "name": "python",
   "nbconvert_exporter": "python",
   "pygments_lexer": "ipython3",
   "version": "3.12.1"
  }
 },
 "nbformat": 4,
 "nbformat_minor": 5
}
