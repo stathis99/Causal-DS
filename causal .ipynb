{
 "cells": [
  {
   "cell_type": "code",
   "execution_count": null,
   "id": "20bab79b-f287-4c27-beb2-2d55d5eaffb7",
   "metadata": {},
   "outputs": [],
   "source": [
    "import dowhy\n",
    "from dowhy import CausalModel"
   ]
  },
  {
   "cell_type": "code",
   "execution_count": null,
   "id": "e52fe227",
   "metadata": {},
   "outputs": [],
   "source": [
    "import pandas as pd\n",
    "import networkx as nx\n",
    "import dowhy\n",
    "from dowhy import CausalModel\n",
    "from sklearn.linear_model import LinearRegression\n",
    "import numpy as np\n",
    "#from dowhy.causal_identifier import backdoor"
   ]
  },
  {
   "cell_type": "code",
   "execution_count": null,
   "id": "65f08944",
   "metadata": {},
   "outputs": [],
   "source": [
    "train_path = 'Data/lucas0_text/lucas0_train.data'\n",
    "test_path = 'Data/lucas0_text/lucas0_test.data'\n",
    "targets_path = 'Data/lucas0_text/lucas0_train.targets'\n",
    "param_path = 'Data/lucas0_text/lucas0.param'\n",
    "\n",
    "\n",
    "column_names_targets = ['LC']  \n",
    "column_names = [\n",
    "    'SMOK',\n",
    "    'YF',\n",
    "    'ANX',\n",
    "    'PP',\n",
    "    'GEN',\n",
    "    'ATDSD',\n",
    "    'BED',\n",
    "    'CAR',\n",
    "    'FTG',\n",
    "    'ALG',\n",
    "    'COUGH'\n",
    "]\n",
    "\n",
    "\n",
    "\n",
    "train = pd.read_csv(train_path, names= column_names,delimiter='\\\\s+')\n",
    "test = pd.read_csv(test_path)\n",
    "targets = pd.read_csv(targets_path, names=column_names_targets)\n",
    "param = pd.read_csv(param_path)\n",
    "\n",
    "data = pd.concat([train, targets], axis=1)\n",
    "\n",
    "num_samples = data.shape[0]\n",
    "\n",
    "# change LC variable from (-1,1) t0 (0,1) for calculations\n",
    "data['LC'] =data['LC'].replace(-1, 0)"
   ]
  },
  {
   "cell_type": "code",
   "execution_count": null,
   "id": "9f8808d9",
   "metadata": {},
   "outputs": [],
   "source": [
    "data"
   ]
  },
  {
   "cell_type": "markdown",
   "id": "61281934",
   "metadata": {},
   "source": [
    "## Draw Graph"
   ]
  },
  {
   "cell_type": "code",
   "execution_count": null,
   "id": "0a84ee2a",
   "metadata": {},
   "outputs": [],
   "source": [
    "G = nx.DiGraph()\n",
    "\n",
    "G.add_nodes_from(['ANX', 'PP', 'BED', 'YF', 'SMOK', 'GEN', 'ALG', 'LC', 'ATDSD', 'COUGH', 'FTG', 'CAR'])\n",
    "\n",
    "G.add_edges_from([('ANX', 'SMOK'),\n",
    "                   ('PP', 'SMOK'),\n",
    "                   ('SMOK', 'YF'),\n",
    "                   ('SMOK', 'LC'),\n",
    "                   ('COUGH', 'FTG'),\n",
    "                   ('GEN', 'LC'),\n",
    "                   ('GEN', 'ATDSD'),\n",
    "                   ('LC', 'FTG'),\n",
    "                   ('LC', 'COUGH'),\n",
    "                   ('FTG', 'CAR'),\n",
    "                   ('ALG', 'COUGH'),\n",
    "                   ('ATDSD', 'CAR')])\n",
    "\n",
    "pos = {'ANX': (-1, 1), 'PP': (1, 1),\n",
    "       'BED': (2, 1), 'YF': (-2, 0), 'GEN': (1, 0),\n",
    "       'SMOK': (-1, 0), 'LC': (0, -1), 'COUGH': (0, -2),\n",
    "       'FTG': (1, -2), 'CAR': (2, -3), 'ALG': (-1, -1), 'ATDSD': (2, -1)}\n",
    "\n",
    "nx.draw(G, pos=pos, with_labels=True, node_size=2000, node_color='w', edgecolors='black')\n",
    "nx.write_gml(G, \"lung_cancer_graph.gml\")"
   ]
  },
  {
   "cell_type": "code",
   "execution_count": null,
   "id": "12e7769d",
   "metadata": {},
   "outputs": [],
   "source": [
    "# a utility function to parse the .gml file to string\n",
    "def gml_to_string(file):\n",
    "    gml_str = ''\n",
    "    with open(file, 'r') as file:\n",
    "        for line in file:\n",
    "            gml_str += line.rstrip()\n",
    "    return gml_str\n",
    "\n",
    "from IPython.display import Image, display\n"
   ]
  },
  {
   "cell_type": "markdown",
   "id": "87e97936",
   "metadata": {},
   "source": [
    "## Question 1: Average Causal Effect of Coughing of Fatigue"
   ]
  },
  {
   "cell_type": "code",
   "execution_count": null,
   "id": "3a70a4d5",
   "metadata": {},
   "outputs": [],
   "source": [
    "from IPython.display import Image, display\n",
    "\n",
    "gml_graph = gml_to_string('lung_cancer_graph.gml')\n",
    "# With GML string\n",
    "model=CausalModel(\n",
    "    data = data,\n",
    "    treatment='COUGH',\n",
    "    outcome='FTG',\n",
    "    graph=gml_graph\n",
    ")\n",
    "model.view_model()"
   ]
  },
  {
   "cell_type": "markdown",
   "id": "75698efb",
   "metadata": {},
   "source": [
    "## 1. Find adj sets using DOwhy"
   ]
  },
  {
   "cell_type": "code",
   "execution_count": null,
   "id": "dd6f1654",
   "metadata": {},
   "outputs": [],
   "source": [
    "identified_estimand = model.identify_effect()\n",
    "print(identified_estimand)"
   ]
  },
  {
   "cell_type": "markdown",
   "id": "8584e5a5",
   "metadata": {},
   "source": [
    "####  Dowhy found:\n",
    "\n",
    "1. Lung Cuncer as adj set with backdoor \n",
    "2. Allergy as instrumental variable "
   ]
  },
  {
   "cell_type": "markdown",
   "id": "1ec4ea79",
   "metadata": {},
   "source": [
    "## 2. Find adj set by hand"
   ]
  },
  {
   "cell_type": "markdown",
   "id": "2b050577",
   "metadata": {},
   "source": [
    "### 2.1 Backdoor"
   ]
  },
  {
   "cell_type": "markdown",
   "id": "5bb894e6",
   "metadata": {},
   "source": [
    "\n",
    "The backdoor criterion allows us to identify the variables on which we need to condition to calculate our causal estimates. We identify these variables by looking at 'backdoor' paths from the treatment variable.\n",
    "\n",
    "Given a CBN $(G = (\\mathbf{V}, \\mathbf{E}), p)$ and a distinct pair of variables $X_i, Y_j \\in \\mathbf{V}$, a set $\\mathbf{Z} \\subseteq \\mathbf{V} \\setminus \\{i,j\\}$ satisfies the\n",
    "**backdoor criterion** for estimating the causal effect of $X_i$ on $X_j$ if:\n",
    "- $\\mathbf{Z}$ does not contain any descendant of $i$, $Desc(i) \\cap \\mathbf{Z} = \\emptyset$, **and**\n",
    "- $\\mathbf{Z}$ blocks all backdoor paths from $i$ to $j$ (all paths that start with an arrow into $i \\gets ... j$)\n",
    "\n"
   ]
  },
  {
   "cell_type": "code",
   "execution_count": null,
   "id": "b35ebc45",
   "metadata": {},
   "outputs": [],
   "source": [
    "## Descendants of COUGH\n",
    "\n",
    "nx.descendants(G,'COUGH') | {'COUGH'}"
   ]
  },
  {
   "cell_type": "markdown",
   "id": "f35cfd13",
   "metadata": {},
   "source": [
    "Z should not contain :\n",
    "\n",
    "{'CAR', 'COUGH', 'FTG'}"
   ]
  },
  {
   "cell_type": "code",
   "execution_count": null,
   "id": "d9752241",
   "metadata": {},
   "outputs": [],
   "source": [
    "H = G.to_undirected()\n",
    "all_possible_paths = list(nx.all_simple_paths(H, 'COUGH', 'FTG'))\n",
    "for path in all_possible_paths:\n",
    "    print(path)"
   ]
  },
  {
   "cell_type": "markdown",
   "id": "cacbb468",
   "metadata": {},
   "source": [
    "Possible backdoor paths from COUGHING to FATIGUE : \n",
    "\n",
    "1. ['COUGH', 'LC', 'GEN', 'ATDSD', 'CAR', 'FTG']\n",
    "2. ['COUGH', 'LC', 'FTG']"
   ]
  },
  {
   "cell_type": "markdown",
   "id": "526330c1",
   "metadata": {},
   "source": [
    "Check if backdoor paths are blocked :"
   ]
  },
  {
   "cell_type": "code",
   "execution_count": null,
   "id": "2848fcfa",
   "metadata": {},
   "outputs": [],
   "source": [
    "adjustment_variables = pd.DataFrame(columns=['path', 'colliders', 'non_colliders'])\n",
    "\n",
    "path = ['COUGH', 'LC', 'GEN', 'ATDSD', 'CAR', 'FTG']\n",
    "\n",
    "colliders = np.array([])\n",
    "non_colliders = []\n",
    "path_len = len(path)\n",
    "\n",
    "# we loop through adjacent variables on the path, ignoring the source and target variables as potential colliders\n",
    "for node0, node1, node2 in zip(path[0:path_len-2], path[1:path_len-1], path[2:]):\n",
    "    # if there is an arrow pointing into node1 from both sides on the path, it is a collider\n",
    "    if G.has_edge(node0, node1) and G.has_edge(node2, node1):\n",
    "        colliders = np.append(colliders, list(nx.descendants(G,node1)) + [node1]) # so we add it (and all its descendants) to the list\n",
    "# we flatten the list of list\n",
    "colliders = colliders.flatten()\n",
    "\n",
    "# any node on the path (excluding the source and target) that is not a collider is a non-collider\n",
    "non_colliders = [x for x in path[1:-1] if x not in colliders]\n",
    "\n",
    "# finally, we add the information to our dataframe, with the path, colliders, and non-colliders\n",
    "adjustment_variables.loc[len(adjustment_variables.index)] = [path, colliders, non_colliders] \n",
    "\n",
    "adjustment_variables"
   ]
  },
  {
   "cell_type": "markdown",
   "id": "3d1197f1",
   "metadata": {},
   "source": [
    "#### Path [COUGH, LC, GEN, ATDSD, CAR, FTG] is blocked by CAR !\n"
   ]
  },
  {
   "cell_type": "code",
   "execution_count": null,
   "id": "f7cdeea7",
   "metadata": {},
   "outputs": [],
   "source": [
    "adjustment_variables = pd.DataFrame(columns=['path', 'colliders', 'non_colliders'])\n",
    "\n",
    "path = ['COUGH', 'LC', 'FTG']\n",
    "\n",
    "colliders = np.array([])\n",
    "non_colliders = []\n",
    "path_len = len(path)\n",
    "\n",
    "# we loop through adjacent variables on the path, ignoring the source and target variables as potential colliders\n",
    "for node0, node1, node2 in zip(path[0:path_len-2], path[1:path_len-1], path[2:]):\n",
    "    # if there is an arrow pointing into node1 from both sides on the path, it is a collider\n",
    "    if G.has_edge(node0, node1) and G.has_edge(node2, node1):\n",
    "        colliders = np.append(colliders, list(nx.descendants(G,node1)) + [node1]) # so we add it (and all its descendants) to the list\n",
    "# we flatten the list of list\n",
    "colliders = colliders.flatten()\n",
    "\n",
    "# any node on the path (excluding the source and target) that is not a collider is a non-collider\n",
    "non_colliders = [x for x in path[1:-1] if x not in colliders]\n",
    "\n",
    "# finally, we add the information to our dataframe, with the path, colliders, and non-colliders\n",
    "adjustment_variables.loc[len(adjustment_variables.index)] = [path, colliders, non_colliders] \n",
    "\n",
    "adjustment_variables"
   ]
  },
  {
   "cell_type": "markdown",
   "id": "b22ebc79",
   "metadata": {},
   "source": [
    "Path [COUGH, LC, FTG] is unblocked as there are no colliders. We use LC to block it\n",
    "Z = {$LC$}.\n",
    "$\\mathbf{Z}$ does not contain any descendant of $i$, $Desc(i) \\cap \\mathbf{Z} = \\emptyset$.\n",
    "\n",
    "Z = {$LC$} meets all conditions of backdoor criterion"
   ]
  },
  {
   "cell_type": "markdown",
   "id": "377a06bd",
   "metadata": {},
   "source": [
    "### 2.2 Frontdoor Criterion\n",
    "\n",
    "\n",
    "A set of variables **Z** is said to satisfy the front-door criterion relative to an ordered pair of variables ($X_i$, $X_j$), if:\n",
    "1. **Z** intercepts all directed paths from $X_i$ to $X_j$\n",
    "2. There is no unblocked backdoor path from $X_i$ to **Z**\n",
    "3. All backdoor paths from **Z** to $X_j$ are blocked by $X_i$\n"
   ]
  },
  {
   "cell_type": "markdown",
   "id": "7a9a6f89",
   "metadata": {},
   "source": [
    "There is no set M that blocks paths from Coughing to Fatigue. No frontdoor."
   ]
  },
  {
   "cell_type": "markdown",
   "id": "44c36484",
   "metadata": {},
   "source": [
    "### 2.3 Instrumental variables\n",
    "\n",
    "Instrumental variables can be used when you have unobserved confounders, limiting your ability to apply backdoor or frontdoor criterion. In order for a variable $Z$ to qualify as an instrumental variable for measuring the effect of $X$ on $Y$, it needs to meet the following conditions<sup>[1]</sup>:\n",
    "1. $Z$ has a causal effect on $X$\n",
    "2. $Z$ affects the outcome $Y$ only through $X$\n",
    "3. $Z$ and $Y$ have no common causes"
   ]
  },
  {
   "cell_type": "markdown",
   "id": "40e80e53",
   "metadata": {},
   "source": [
    "In order for a variable Allergy  to qualify as an instrumental variable for measuring the effect of Coughing  on Fatigue, it needs to meet the following conditions:\n",
    "\n",
    "1. Allergy has a causal effect on Coughing.\n",
    "\n",
    "2. Allergy affects the outcome Fatigue only through Coughing\n",
    "\n",
    "3.  Allergy and Fatigue have no common causes\n",
    "\n",
    "\n",
    "As it meets all conditions, we can use 'Allergy' as an instrumental variable.\n"
   ]
  },
  {
   "cell_type": "markdown",
   "id": "ece176ee",
   "metadata": {},
   "source": [
    "## 3. Make biased linear estimation using linear regression"
   ]
  },
  {
   "cell_type": "code",
   "execution_count": null,
   "id": "c4608cd9",
   "metadata": {},
   "outputs": [],
   "source": [
    "v0_vals = data['COUGH'].values.reshape(num_samples, 1)\n",
    "y_vals = data['FTG'].values.reshape(num_samples, 1)"
   ]
  },
  {
   "cell_type": "code",
   "execution_count": null,
   "id": "2486ccce",
   "metadata": {},
   "outputs": [],
   "source": [
    "linear_regressor = LinearRegression() \n",
    "linear_regressor.fit(v0_vals, y_vals)\n",
    "linear_regressor.coef_"
   ]
  },
  {
   "cell_type": "markdown",
   "id": "01bf271c",
   "metadata": {},
   "source": [
    "## 4. Make unbiased estimations "
   ]
  },
  {
   "cell_type": "markdown",
   "id": "3090e701",
   "metadata": {},
   "source": [
    "### 4.1 Use Linear regression and adj set Z = {$LC$} from Backdooor"
   ]
  },
  {
   "cell_type": "code",
   "execution_count": null,
   "id": "9503ac4c",
   "metadata": {},
   "outputs": [],
   "source": [
    "causal_estimate = model.estimate_effect(identified_estimand,\n",
    "        method_name=\"backdoor.linear_regression\")\n",
    "print(causal_estimate)\n",
    "print(\"Causal Estimate is \" + str(causal_estimate.value))"
   ]
  },
  {
   "cell_type": "markdown",
   "id": "7152c4e3",
   "metadata": {},
   "source": [
    "### 4.1 Use Linear regression and adj set Z = {$ALG$} from IV"
   ]
  },
  {
   "cell_type": "code",
   "execution_count": null,
   "id": "bcf8f388",
   "metadata": {},
   "outputs": [],
   "source": [
    "causal_estimate = model.estimate_effect(identified_estimand,\n",
    "        method_name=\"iv.linear_regression\")\n",
    "print(causal_estimate)\n",
    "print(\"Causal Estimate is \" + str(causal_estimate.value))"
   ]
  },
  {
   "cell_type": "markdown",
   "id": "2e89d2e2",
   "metadata": {},
   "source": [
    "## Use inverse propensity weighting using backdoot adj set Z = {$LC$}"
   ]
  },
  {
   "cell_type": "code",
   "execution_count": null,
   "id": "eacef6d5",
   "metadata": {},
   "outputs": [],
   "source": [
    "t_group = data[data[\"COUGH\"]==1]\n",
    "c_group = data[data[\"COUGH\"]==0]"
   ]
  },
  {
   "cell_type": "code",
   "execution_count": null,
   "id": "61328424",
   "metadata": {},
   "outputs": [],
   "source": [
    "treatment_group_LC_0 = t_group[t_group[\"LC\"]==0]\n",
    "treatment_group_LC_1 = t_group[t_group[\"LC\"]==1]\n",
    "\n",
    "control_group_LC_0 = c_group[c_group[\"LC\"]==0]\n",
    "control_group_LC_1 = c_group[c_group[\"LC\"]==1]"
   ]
  },
  {
   "cell_type": "code",
   "execution_count": null,
   "id": "b559c40b",
   "metadata": {},
   "outputs": [],
   "source": [
    "LC_0_group = pd.concat([treatment_group_LC_0,control_group_LC_0])\n",
    "LC_1_group = pd.concat([treatment_group_LC_1,control_group_LC_1])"
   ]
  },
  {
   "cell_type": "code",
   "execution_count": null,
   "id": "78de1fc1",
   "metadata": {},
   "outputs": [],
   "source": [
    "propensity_score_LC_0 = len(treatment_group_LC_0)/len(LC_0_group)\n",
    "propensity_score_LC_1 = len(treatment_group_LC_1)/len(LC_1_group)"
   ]
  },
  {
   "cell_type": "code",
   "execution_count": null,
   "id": "dc7ea21c",
   "metadata": {},
   "outputs": [],
   "source": [
    "number_of_all_samples = num_samples\n",
    "\n",
    "weighted_sum_treatment_0 = sum(treatment_group_LC_0[\"FTG\"])/ propensity_score_LC_0\n",
    "weighted_sum_treatment_1 = sum(treatment_group_LC_1[\"FTG\"])/ propensity_score_LC_1\n",
    "\n",
    "\n",
    "mean_treatment2 = weighted_sum_treatment_0 + weighted_sum_treatment_1 \n",
    "mean_treatment2 = mean_treatment2/number_of_all_samples\n",
    "\n",
    "weighted_sum_control_0 = sum(control_group_LC_0[\"FTG\"])/(1 - propensity_score_LC_0)\n",
    "weighted_sum_control_1 = sum(control_group_LC_1[\"FTG\"])/ (1 - propensity_score_LC_1)\n",
    "\n",
    "mean_control2 = weighted_sum_control_0 + weighted_sum_control_1 \n",
    "mean_control2 = mean_control2/number_of_all_samples\n",
    "\n",
    "ATE_IPW2 = mean_treatment2-mean_control2\n",
    "print(\"ATE after IPW:\", ATE_IPW2)"
   ]
  },
  {
   "cell_type": "markdown",
   "id": "b53ad813",
   "metadata": {},
   "source": [
    "## Question 2: Average Causal Effect of Lung Cancer on Car Accident"
   ]
  },
  {
   "cell_type": "code",
   "execution_count": null,
   "id": "d991581f",
   "metadata": {},
   "outputs": [],
   "source": [
    "from IPython.display import Image, display\n",
    "\n",
    "gml_graph = gml_to_string('lung_cancer_graph.gml')\n",
    "# With GML string\n",
    "model=CausalModel(\n",
    "    data = data,\n",
    "    treatment='LC',\n",
    "    outcome='CAR',\n",
    "    graph=gml_graph\n",
    ")\n",
    "model.view_model()"
   ]
  },
  {
   "cell_type": "markdown",
   "id": "1e443d61",
   "metadata": {},
   "source": [
    "## Use DoWhy"
   ]
  },
  {
   "cell_type": "code",
   "execution_count": null,
   "id": "8f9b0df3",
   "metadata": {},
   "outputs": [],
   "source": [
    "identified_estimand = model.identify_effect()\n",
    "print(identified_estimand)"
   ]
  },
  {
   "cell_type": "markdown",
   "id": "734b33af",
   "metadata": {},
   "source": [
    "## Backdoor By Hand"
   ]
  },
  {
   "cell_type": "code",
   "execution_count": null,
   "id": "b8b97a99",
   "metadata": {},
   "outputs": [],
   "source": [
    "## Descendants of COUGH\n",
    "\n",
    "nx.descendants(G,'LC') | {'LC'}"
   ]
  },
  {
   "cell_type": "code",
   "execution_count": null,
   "id": "4948e38f",
   "metadata": {},
   "outputs": [],
   "source": [
    "H = G.to_undirected()\n",
    "\n",
    "all_possible_paths = list(nx.all_simple_paths(H, 'LC', 'CAR'))\n",
    "for path in all_possible_paths:\n",
    "    print(path)"
   ]
  },
  {
   "cell_type": "markdown",
   "id": "1c50c7ca",
   "metadata": {},
   "source": [
    "Possible backdoor paths:\n",
    "\n",
    "['LC', 'GEN', 'ATDSD', 'CAR']"
   ]
  },
  {
   "cell_type": "code",
   "execution_count": null,
   "id": "1cb3055a",
   "metadata": {},
   "outputs": [],
   "source": [
    "adjustment_variables = pd.DataFrame(columns=['path', 'colliders', 'non_colliders'])\n",
    "\n",
    "path = ['LC', 'GEN', 'ATDSD', 'CAR']\n",
    "\n",
    "colliders = np.array([])\n",
    "non_colliders = []\n",
    "path_len = len(path)\n",
    "\n",
    "# we loop through adjacent variables on the path, ignoring the source and target variables as potential colliders\n",
    "for node0, node1, node2 in zip(path[0:path_len-2], path[1:path_len-1], path[2:]):\n",
    "    # if there is an arrow pointing into node1 from both sides on the path, it is a collider\n",
    "    if G.has_edge(node0, node1) and G.has_edge(node2, node1):\n",
    "        colliders = np.append(colliders, list(nx.descendants(G,node1)) + [node1]) # so we add it (and all its descendants) to the list\n",
    "# we flatten the list of list\n",
    "colliders = colliders.flatten()\n",
    "\n",
    "# any node on the path (excluding the source and target) that is not a collider is a non-collider\n",
    "non_colliders = [x for x in path[1:-1] if x not in colliders]\n",
    "\n",
    "# finally, we add the information to our dataframe, with the path, colliders, and non-colliders\n",
    "adjustment_variables.loc[len(adjustment_variables.index)] = [path, colliders, non_colliders] \n",
    "\n",
    "adjustment_variables"
   ]
  },
  {
   "cell_type": "markdown",
   "id": "a7171ffb",
   "metadata": {},
   "source": [
    "There are no colliders on this path, so we need to condition on at least one of Z = {$GEN$}, {$ATDSD$}, {$GEN$,$ATDSD$}"
   ]
  },
  {
   "cell_type": "markdown",
   "id": "440aa8f6",
   "metadata": {},
   "source": [
    "\n",
    "$\\mathbf{Z}$ does not contain any descendant of $LC$, $Desc(LC) \\cap \\mathbf{Z} = \\emptyset$.\n",
    "\n",
    "Z = {$GEN$} or Z = {$ATDSD$} or Z = {$GEN$,$ATDSD$} meets all conditions of backdoor criterion"
   ]
  },
  {
   "cell_type": "markdown",
   "id": "33a84cce",
   "metadata": {},
   "source": [
    "### FrontDoor By hand"
   ]
  },
  {
   "cell_type": "markdown",
   "id": "8f437bd6",
   "metadata": {},
   "source": [
    "Frontdoor Criterion\n",
    "\n",
    "\n",
    "A set of variables **Z** is said to satisfy the front-door criterion relative to an ordered pair of variables ($X_i$, $X_j$), if:\n",
    "1. **Z** intercepts all directed paths from $X_i$ to $X_j$\n",
    "2. There is no unblocked backdoor path from $X_i$ to **Z**\n",
    "3. All backdoor paths from **Z** to $X_j$ are blocked by $X_i$"
   ]
  },
  {
   "cell_type": "markdown",
   "id": "1ac69fa7",
   "metadata": {},
   "source": [
    "1. Directed Paths from LC TO CAR\n",
    "\n",
    "['LC', 'FTG', 'CAR']\n",
    "['LC', 'COUGH', 'CAR']\n",
    "\n",
    "Possible adj set Z = {$FTG$, $COUGH$ }"
   ]
  },
  {
   "cell_type": "markdown",
   "id": "e65fb646",
   "metadata": {},
   "source": [
    "2. There is no unblocked backdoor path from  LC  to Z"
   ]
  },
  {
   "cell_type": "markdown",
   "id": "6353663c",
   "metadata": {},
   "source": [
    "Backdoor Paths : from LC to Z\n",
    "\n",
    "['LC', 'GEN', 'ATDSD', 'CAR' 'Z']\n",
    "\n",
    "Path is blocked by 'CAR'"
   ]
  },
  {
   "cell_type": "markdown",
   "id": "d126a098",
   "metadata": {},
   "source": [
    "3. All backdoor paths from Z to CAR are blocked by  LC"
   ]
  },
  {
   "cell_type": "markdown",
   "id": "7caa8c43",
   "metadata": {},
   "source": [
    "Backdoor Paths from Z to CAR:\n",
    "\n",
    "['Z','LC','GEN','ATDSD','CAR']\n",
    "\n",
    "Path blocked by LC"
   ]
  },
  {
   "cell_type": "markdown",
   "id": "79abf796",
   "metadata": {},
   "source": [
    "Z = {$FTG$, $COUGH$ } meets all criterion for frontdoor"
   ]
  },
  {
   "cell_type": "markdown",
   "id": "cc70add4",
   "metadata": {},
   "source": [
    "### Biased Linear estimation"
   ]
  },
  {
   "cell_type": "code",
   "execution_count": null,
   "id": "f8d2c81c",
   "metadata": {},
   "outputs": [],
   "source": [
    "v0_vals = data['LC'].values.reshape(num_samples, 1)\n",
    "y_vals = data['CAR'].values.reshape(num_samples, 1)"
   ]
  },
  {
   "cell_type": "code",
   "execution_count": null,
   "id": "02c135ff",
   "metadata": {},
   "outputs": [],
   "source": [
    "linear_regressor = LinearRegression() \n",
    "linear_regressor.fit(v0_vals, y_vals)\n",
    "linear_regressor.coef_"
   ]
  },
  {
   "cell_type": "markdown",
   "id": "8795772f",
   "metadata": {},
   "source": [
    "### Frontdoor "
   ]
  },
  {
   "cell_type": "code",
   "execution_count": null,
   "id": "71dfe386",
   "metadata": {},
   "outputs": [],
   "source": [
    "causal_estimate = model.estimate_effect(identified_estimand,\n",
    "        method_name=\"frontdoor.linear_regression\")\n",
    "print(causal_estimate)\n",
    "print(\"Causal Estimate is \" + str(causal_estimate.value))"
   ]
  },
  {
   "cell_type": "code",
   "execution_count": null,
   "id": "72cb0379",
   "metadata": {},
   "outputs": [],
   "source": [
    "causal_estimate = model.estimate_effect(identified_estimand,\n",
    "        method_name=\"iv.linear_regression\")\n",
    "print(causal_estimate)\n",
    "print(\"Causal Estimate is \" + str(causal_estimate.value))"
   ]
  },
  {
   "cell_type": "markdown",
   "id": "19dff37c",
   "metadata": {},
   "source": [
    "## IPW with Backdoor adj set Z = ['ATDSD']"
   ]
  },
  {
   "cell_type": "code",
   "execution_count": null,
   "id": "1bb8b4ee",
   "metadata": {},
   "outputs": [],
   "source": [
    "causal_estimate = model.estimate_effect(identified_estimand,\n",
    "        method_name=\"backdoor.propensity_score_weighting\")\n",
    "print(causal_estimate)\n",
    "print(\"Causal Estimate is \" + str(causal_estimate.value))"
   ]
  },
  {
   "cell_type": "markdown",
   "id": "339ff84a-1f47-4cc7-8e6a-7d003b95d332",
   "metadata": {},
   "source": [
    "# 5. Causal Discovery"
   ]
  },
  {
   "cell_type": "code",
   "execution_count": null,
   "id": "28af0c93-6bb0-464c-9ab1-1ab95b05a75e",
   "metadata": {},
   "outputs": [],
   "source": [
    "from itertools import combinations\n",
    "\n",
    "import cdt\n",
    "# cdt.SETTINGS.rpath = '/usr/local/bin/Rscript' # for macOS\n",
    "cdt.SETTINGS.rpath = 'C:/Program Files/R/R-4.3.3/bin/Rscript' # for Windows, here you may need to adjust the path based on your R Version\n",
    "\n",
    "from dowhy import CausalModel\n",
    "import matplotlib.pyplot as plt\n",
    "import networkx as nx\n",
    "import numpy as np\n",
    "from numpy.random import normal\n",
    "import pandas as pd\n",
    "import pingouin as pg\n",
    "import dowhy.graph_learners.ges as dowhy_ges\n",
    "import ges\n",
    "\n",
    "alpha = 0.05 # significance level"
   ]
  },
  {
   "cell_type": "code",
   "execution_count": null,
   "id": "36f1cc59-221b-4230-a139-1a40a6d37e4f",
   "metadata": {},
   "outputs": [],
   "source": [
    "data = data.iloc[:, :11]"
   ]
  },
  {
   "cell_type": "code",
   "execution_count": null,
   "id": "1f5bf7ba-736c-4cf4-ac14-a4f9caabcff6",
   "metadata": {},
   "outputs": [],
   "source": [
    "data"
   ]
  },
  {
   "cell_type": "markdown",
   "id": "f11176ca-14e8-4fc4-be9c-213d24250631",
   "metadata": {},
   "source": [
    "## 5.1 Constraint-based Causal Discovery"
   ]
  },
  {
   "cell_type": "code",
   "execution_count": null,
   "id": "28a1a0bd-1e52-4f0b-8a4f-1c218cb1a572",
   "metadata": {},
   "outputs": [],
   "source": [
    "pc = cdt.causality.graph.PC(CItest=\"gaussian\", alpha=alpha)\n",
    "pc_graph = pc.create_graph_from_data(data)\n",
    "colors = ['red'  if (y,x) in pc_graph.edges() else 'black' for (x,y) in pc_graph.edges()]\n",
    "nx.draw(pc_graph, with_labels=True, node_size=500, node_color='w', edgecolors ='black', pos=pos, edge_color=colors)"
   ]
  },
  {
   "cell_type": "markdown",
   "id": "d76c31d2-e4b1-4c50-b254-ace06c728d21",
   "metadata": {},
   "source": [
    "## 5.2 Score-based Causal Discovery"
   ]
  },
  {
   "cell_type": "code",
   "execution_count": null,
   "id": "e6eed5f9-56bb-482e-8865-6c7a12471f81",
   "metadata": {},
   "outputs": [],
   "source": [
    "result, score = ges.fit_bic(data.to_numpy()) # The result is a CPDAG represented by an adjacency matrix\n",
    "ges_graph = nx.relabel_nodes(nx.DiGraph(result), {idx: i for idx, i in enumerate(data.columns)})\n",
    "colors = ['red'  if (y,x) in ges_graph.edges() else 'black' for (x,y) in ges_graph.edges()]\n",
    "nx.draw(ges_graph, with_labels=True, node_size=500, node_color='w', edgecolors ='black', pos=pos, edge_color=colors)"
   ]
  },
  {
   "cell_type": "markdown",
   "id": "dfa956d2-4c7e-4593-b3a2-38c08490fffc",
   "metadata": {},
   "source": [
    "### Remarks"
   ]
  },
  {
   "cell_type": "markdown",
   "id": "6b0d777d-0ba7-4325-8a8b-fb593914f7ed",
   "metadata": {},
   "source": [
    "- Both methods (PC and GES) arrive at the same causal graph\n",
    "- Almost all of the causal relations agree with the graph provided in the dataset description, apart from the causal relation between Genetics and Attention Disorder, as the orientation of the edge could not be determined.\n",
    "- It could be argued that, since Genetics are defined before birth and cannot be changed thereafter, the attention disorder of a human cannot possibly affect Genetics. Thus, the direction of the edge between Genetics and Attention Disorder could be provided as Background Knowledge (even backed by literature, for example: https://www.nature.com/articles/s41380%E2%80%90018%E2%80%900070%E2%80%900)"
   ]
  },
  {
   "cell_type": "code",
   "execution_count": null,
   "id": "2b7ad84f-85a5-4c06-a6b9-4f8b69b15aa1",
   "metadata": {},
   "outputs": [],
   "source": []
  }
 ],
 "metadata": {
  "kernelspec": {
   "display_name": "Python 3 (ipykernel)",
   "language": "python",
   "name": "python3"
  },
  "language_info": {
   "codemirror_mode": {
    "name": "ipython",
    "version": 3
   },
   "file_extension": ".py",
   "mimetype": "text/x-python",
   "name": "python",
   "nbconvert_exporter": "python",
   "pygments_lexer": "ipython3",
   "version": "3.12.1"
  }
 },
 "nbformat": 4,
 "nbformat_minor": 5
}
